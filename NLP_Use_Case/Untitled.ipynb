{
 "cells": [
  {
   "cell_type": "markdown",
   "metadata": {},
   "source": [
    "# Problem statement:\n",
    "Social Network Qwerty deals with a lot of data pertaining to user chats, comments and feedback over several platforms and forums. One of the aims for the company is to separate out users who give constructive comments from those who spam. There are several types of spam, some of which are hate speech, obscenity and insults.\n",
    "\n",
    "Qwerty wants to use Deep Learning technique to separate out spam feedback and concentrate only on the constructive ones to improve customer satisfaction as well as brand value of the company.\n",
    "\n",
    "Use the attached data-set to develop a deep learning model to help Qwerty achieve its objectives, stating \n",
    "1. architecture, \n",
    "2. loss function and \n",
    "3. performance metric you decide to choose and your reasons for choosing them"
   ]
  },
  {
   "cell_type": "markdown",
   "metadata": {},
   "source": [
    "## Key Points:\n",
    "* There are several types of spam, some of which are hate speech, obscenity and insults.\n",
    "* Separate out users who give constructive comments from those who spam.\n",
    "* Concentrate only on the constructive ones to improve customer satisfaction as well as brand value of the company."
   ]
  },
  {
   "cell_type": "code",
   "execution_count": 1,
   "metadata": {},
   "outputs": [],
   "source": [
    "import pandas as pd\n",
    "pd.set_option('max_columns',None)"
   ]
  },
  {
   "cell_type": "code",
   "execution_count": 2,
   "metadata": {},
   "outputs": [
    {
     "data": {
      "text/html": [
       "<div>\n",
       "<style scoped>\n",
       "    .dataframe tbody tr th:only-of-type {\n",
       "        vertical-align: middle;\n",
       "    }\n",
       "\n",
       "    .dataframe tbody tr th {\n",
       "        vertical-align: top;\n",
       "    }\n",
       "\n",
       "    .dataframe thead th {\n",
       "        text-align: right;\n",
       "    }\n",
       "</style>\n",
       "<table border=\"1\" class=\"dataframe\">\n",
       "  <thead>\n",
       "    <tr style=\"text-align: right;\">\n",
       "      <th></th>\n",
       "      <th>id</th>\n",
       "      <th>text</th>\n",
       "      <th>hate_speech</th>\n",
       "      <th>obscene</th>\n",
       "      <th>insulting</th>\n",
       "    </tr>\n",
       "  </thead>\n",
       "  <tbody>\n",
       "    <tr>\n",
       "      <th>0</th>\n",
       "      <td>0</td>\n",
       "      <td>\"\\n\\nWikipedia an interesting yet frustrating ...</td>\n",
       "      <td>1</td>\n",
       "      <td>0</td>\n",
       "      <td>0</td>\n",
       "    </tr>\n",
       "    <tr>\n",
       "      <th>1</th>\n",
       "      <td>1</td>\n",
       "      <td>\"\\n\\nThanks\\nThanks for reverting the vandalis...</td>\n",
       "      <td>0</td>\n",
       "      <td>0</td>\n",
       "      <td>0</td>\n",
       "    </tr>\n",
       "  </tbody>\n",
       "</table>\n",
       "</div>"
      ],
      "text/plain": [
       "   id                                               text  hate_speech  \\\n",
       "0   0  \"\\n\\nWikipedia an interesting yet frustrating ...            1   \n",
       "1   1  \"\\n\\nThanks\\nThanks for reverting the vandalis...            0   \n",
       "\n",
       "   obscene  insulting  \n",
       "0        0          0  \n",
       "1        0          0  "
      ]
     },
     "execution_count": 2,
     "metadata": {},
     "output_type": "execute_result"
    }
   ],
   "source": [
    "df = pd.read_csv('NLPCaseStudy.csv')\n",
    "df.head(2)"
   ]
  },
  {
   "cell_type": "markdown",
   "metadata": {},
   "source": [
    "The target variable can have two possible values:\n",
    "* Spam_Comments: hate_speech, obscene, insulting\n",
    "* Constructive_Comments\n",
    "\n",
    "<!-- We can map hate_speech, obscene and insulting to Spam_Comments category -->\n",
    "<!-- If  -->"
   ]
  },
  {
   "cell_type": "code",
   "execution_count": 4,
   "metadata": {},
   "outputs": [
    {
     "data": {
      "text/plain": [
       "(31634, 5)"
      ]
     },
     "execution_count": 4,
     "metadata": {},
     "output_type": "execute_result"
    }
   ],
   "source": [
    "df.shape"
   ]
  }
 ],
 "metadata": {
  "kernelspec": {
   "display_name": "Python 3",
   "language": "python",
   "name": "python3"
  },
  "language_info": {
   "codemirror_mode": {
    "name": "ipython",
    "version": 3
   },
   "file_extension": ".py",
   "mimetype": "text/x-python",
   "name": "python",
   "nbconvert_exporter": "python",
   "pygments_lexer": "ipython3",
   "version": "3.6.10"
  }
 },
 "nbformat": 4,
 "nbformat_minor": 4
}
